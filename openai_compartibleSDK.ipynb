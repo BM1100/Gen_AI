{
  "nbformat": 4,
  "nbformat_minor": 0,
  "metadata": {
    "colab": {
      "provenance": [],
      "authorship_tag": "ABX9TyO7+nqm17v4ATfROdrppeWf",
      "include_colab_link": true
    },
    "kernelspec": {
      "name": "python3",
      "display_name": "Python 3"
    },
    "language_info": {
      "name": "python"
    }
  },
  "cells": [
    {
      "cell_type": "markdown",
      "metadata": {
        "id": "view-in-github",
        "colab_type": "text"
      },
      "source": [
        "<a href=\"https://colab.research.google.com/github/BM1100/Gen_AI/blob/main/openai_compartibleSDK.ipynb\" target=\"_parent\"><img src=\"https://colab.research.google.com/assets/colab-badge.svg\" alt=\"Open In Colab\"/></a>"
      ]
    },
    {
      "cell_type": "code",
      "execution_count": null,
      "metadata": {
        "id": "RfRu5AFeTsiw"
      },
      "outputs": [],
      "source": [
        "from google.colab import userdata\n",
        "import os\n",
        "\n",
        "# Ensure that a secret named 'GoogleAPIKey' exists in Colab secrets\n",
        "# with your Google API key as the value.\n",
        "# Click the '🔑' icon on the left, then 'Manage secrets',\n",
        "# then 'New secret', set Name to 'GoogleAPIKey' and Value to your key.\n",
        "os.environ['GEMINIAPIKEY'] = userdata.get(\"GOOGLE_API_KEY\")"
      ]
    },
    {
      "cell_type": "code",
      "source": [],
      "metadata": {
        "id": "gFoK8VF0o2JZ"
      },
      "execution_count": null,
      "outputs": []
    },
    {
      "cell_type": "code",
      "source": [
        "from openai import OpenAI\n",
        "client = OpenAI(\n",
        "    api_key=os.environ['GEMINIAPIKEY'],\n",
        "    base_url=\"https://generativelanguage.googleapis.com/v1beta/\"\n",
        ")\n",
        "# Make a chat completion request\n",
        "response = client.chat.completions.create(\n",
        "    model=\"gemini-1.5-flash\",\n",
        "    messages=[\n",
        "        {\"role\": \"system\", \"content\": \"You are a helpful assistant.\"},\n",
        "        {\"role\": \"user\", \"content\": \"Explain how to make timetable.\"}\n",
        "    ]\n",
        ")\n",
        "# Print the response\n",
        "print(response.choices[0].message.content)\n"
      ],
      "metadata": {
        "colab": {
          "base_uri": "https://localhost:8080/"
        },
        "id": "SsCDqud-Wusb",
        "outputId": "3cf63f77-7682-4b06-ee81-816577a3d77c"
      },
      "execution_count": null,
      "outputs": [
        {
          "output_type": "stream",
          "name": "stdout",
          "text": [
            "Creating a timetable involves planning and organizing your time effectively. Here's a step-by-step guide:\n",
            "\n",
            "**1. Identify Your Commitments:**\n",
            "\n",
            "* **List everything:** Write down all your existing commitments, including work, school, appointments (doctor, dentist, etc.), extracurricular activities, family obligations, and social events.  Be thorough! Include even small tasks that consume your time.\n",
            "* **Prioritize:**  Decide which commitments are non-negotiable and which have some flexibility.  Rank them in order of importance.\n",
            "\n",
            "**2. Determine Your Available Time:**\n",
            "\n",
            "* **Calculate your total time:**  Consider a typical week (or day, depending on your timetable's scope).  Determine the total number of hours available to you.\n",
            "* **Account for breaks:**  Don't forget to include breaks and downtime.  Regular breaks are crucial for maintaining productivity and preventing burnout.  Schedule them in!\n",
            "* **Consider your energy levels:**  Are you a morning person or a night owl? Schedule demanding tasks when you're most alert.\n",
            "\n",
            "**3. Allocate Time Slots:**\n",
            "\n",
            "* **Block out non-negotiable commitments:** First, schedule in your fixed commitments (work, school, appointments).  This forms the foundation of your timetable.\n",
            "* **Allocate time for important tasks:** Next, schedule the most important tasks or projects. Break down large tasks into smaller, manageable chunks. Assign realistic time estimates to each.\n",
            "* **Fill in the gaps:** Once the essentials are scheduled, fill in the remaining time slots with less urgent tasks, leisure activities, and personal time.  Be realistic about how much time you can realistically dedicate to each activity.\n",
            "* **Use a visual aid:**  Employ a planner, calendar app, or a simple piece of paper to visually represent your timetable. This helps you see your schedule at a glance and identify potential conflicts.\n",
            "\n",
            "**4. Choose a Timetable Format:**\n",
            "\n",
            "* **Daily timetable:**  Best for detailed planning of each day.\n",
            "* **Weekly timetable:**  Provides a broader overview of your week and helps identify recurring tasks.\n",
            "* **Monthly timetable:**  Useful for long-term planning and tracking deadlines.\n",
            "\n",
            "**5. Review and Adjust:**\n",
            "\n",
            "* **Flexibility is key:** Your timetable is a guide, not a rigid structure.  Be prepared to adjust it as needed based on unforeseen circumstances or changes in your priorities.\n",
            "* **Regularly review:**  At the end of each day, week, or month, review your timetable and assess its effectiveness.  Make adjustments as necessary to optimize your time management.\n",
            "* **Don't overschedule:**  Leave some buffer time for unexpected events or tasks that may take longer than anticipated.  Avoid overcommitting yourself.\n",
            "\n",
            "**Tools to Use:**\n",
            "\n",
            "* **Paper planner:**  A classic and tactile option.\n",
            "* **Digital calendar apps:** Google Calendar, Outlook Calendar, Apple Calendar, etc. offer features like reminders, scheduling, and sharing.\n",
            "* **Spreadsheet software:** Excel or Google Sheets can be used to create a customized timetable.\n",
            "* **Time management apps:**  Many apps are designed specifically for time management and task organization.\n",
            "\n",
            "**Example:**\n",
            "\n",
            "Let's say you're a student:\n",
            "\n",
            "* **8:00 AM - 9:00 AM:** Breakfast, get ready\n",
            "* **9:00 AM - 12:00 PM:** Classes\n",
            "* **12:00 PM - 1:00 PM:** Lunch\n",
            "* **1:00 PM - 3:00 PM:** Study Session (History)\n",
            "* **3:00 PM - 4:00 PM:**  Break/Exercise\n",
            "* **4:00 PM - 6:00 PM:** Study Session (Math)\n",
            "* **6:00 PM - 7:00 PM:** Dinner\n",
            "* **7:00 PM - 8:00 PM:** Free time/Relax\n",
            "* **8:00 PM - 9:00 PM:**  Homework\n",
            "* **9:00 PM - 10:00 PM:** Prepare for tomorrow/Relax\n",
            "* **10:00 PM:** Bedtime\n",
            "\n",
            "\n",
            "Remember, the key is to create a timetable that works for *you* and your individual needs and preferences.  Experiment with different formats and approaches until you find one that helps you stay organized and productive.\n",
            "\n"
          ]
        }
      ]
    },
    {
      "cell_type": "code",
      "source": [
        "!curl \"https://generativelanguage.googleapis.com/v1beta/chat/completions\" \\\n",
        "    -H \"Content-Type: application/json\" \\\n",
        "    -H \"Authorization: Bearer $GEMINI_API_KEY\" \\\n",
        "    -d '{\"model\": \"gemini-1.5-flash\",\"messages\": [{\"role\": \"system\", \"content\": \"You are a helpful assistant.\"},{\"role\": \"user\", \"content\": \"Explain how AI works in simple terms.\"}]}'"
      ],
      "metadata": {
        "colab": {
          "base_uri": "https://localhost:8080/"
        },
        "id": "bcNBgKAGo5YI",
        "outputId": "465ec62b-7ca7-43f2-de20-dbbcec74b964"
      },
      "execution_count": null,
      "outputs": [
        {
          "output_type": "stream",
          "name": "stdout",
          "text": [
            "[{\n",
            "  \"error\": {\n",
            "    \"code\": 400,\n",
            "    \"message\": \"Invalid Authorization header.\",\n",
            "    \"status\": \"INVALID_ARGUMENT\"\n",
            "  }\n",
            "}\n",
            "]"
          ]
        }
      ]
    }
  ]
}